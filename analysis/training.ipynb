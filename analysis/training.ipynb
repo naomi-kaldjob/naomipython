{
 "cells": [
  {
   "cell_type": "code",
   "execution_count": 25,
   "metadata": {},
   "outputs": [],
   "source": [
    "import pandas as pd\n",
    "import matplotlib.pyplot as plt\n",
    "from sklearn.tree import DecisionTreeClassifier\n",
    "from sklearn.model_selection import train_test_split, learning_curve\n",
    "from sklearn.metrics import confusion_matrix, classification_report\n",
    "from sklearn.ensemble import RandomForestClassifier\n",
    "from sklearn.neighbors import KNeighborsClassifier\n",
    "from sklearn.model_selection import GridSearchCV, ShuffleSplit\n",
    "\n",
    "import numpy as np"
   ]
  },
  {
   "cell_type": "code",
   "execution_count": 26,
   "metadata": {},
   "outputs": [
    {
     "data": {
      "text/plain": [
       "(40000, 43)"
      ]
     },
     "execution_count": 26,
     "metadata": {},
     "output_type": "execute_result"
    }
   ],
   "source": [
    "years = [18,19,20,21]\n",
    "frames = []\n",
    "for year in years:\n",
    "    frames.append(\n",
    "        pd.read_csv(f'../assets/data/valeursfoncieres-20{year}.txt', sep='|', decimal=',', nrows=10000, low_memory=False)\n",
    "    )\n",
    "df = pd.concat(frames)\n",
    "sDF = df.copy()\n",
    "df.shape"
   ]
  },
  {
   "cell_type": "code",
   "execution_count": 27,
   "metadata": {},
   "outputs": [],
   "source": [
    "dfAddress = pd.read_csv('../assets/data/communes-departement-region.csv', sep=',')"
   ]
  },
  {
   "cell_type": "code",
   "execution_count": 28,
   "metadata": {},
   "outputs": [
    {
     "data": {
      "text/plain": [
       "(10379, 44)"
      ]
     },
     "execution_count": 28,
     "metadata": {},
     "output_type": "execute_result"
    }
   ],
   "source": [
    "df['key'] = df['Date mutation'].astype('str') + df['Type de voie'].astype('str') + df['Voie'].astype('str') + df['Code postal'].astype('str')\n",
    "df = df.groupby('key').filter(lambda x : len(x) == 1)\n",
    "df.shape"
   ]
  },
  {
   "cell_type": "code",
   "execution_count": 29,
   "metadata": {},
   "outputs": [
    {
     "data": {
      "text/plain": [
       "(10194, 44)"
      ]
     },
     "execution_count": 29,
     "metadata": {},
     "output_type": "execute_result"
    }
   ],
   "source": [
    "df = df[df['Valeur fonciere'] > 1]\n",
    "df.shape"
   ]
  },
  {
   "cell_type": "code",
   "execution_count": 30,
   "metadata": {},
   "outputs": [],
   "source": [
    "missingValueRate = (df.isna().sum() / df.shape[0]) * 100"
   ]
  },
  {
   "cell_type": "code",
   "execution_count": 31,
   "metadata": {},
   "outputs": [
    {
     "data": {
      "text/plain": [
       "(10194, 22)"
      ]
     },
     "execution_count": 31,
     "metadata": {},
     "output_type": "execute_result"
    }
   ],
   "source": [
    "df = df[df.columns[missingValueRate < 65]]\n",
    "df.shape"
   ]
  },
  {
   "cell_type": "code",
   "execution_count": 32,
   "metadata": {},
   "outputs": [
    {
     "data": {
      "text/plain": [
       "(105, 15)"
      ]
     },
     "execution_count": 32,
     "metadata": {},
     "output_type": "execute_result"
    }
   ],
   "source": [
    "dfAddress = dfAddress.drop_duplicates(subset=['code_departement'])\n",
    "dfAddress.shape"
   ]
  },
  {
   "cell_type": "code",
   "execution_count": 33,
   "metadata": {},
   "outputs": [],
   "source": [
    "dfAddress.code_departement = dfAddress.code_departement.str.pad(2, side='left', fillchar='0')"
   ]
  },
  {
   "cell_type": "code",
   "execution_count": 34,
   "metadata": {},
   "outputs": [],
   "source": [
    "df['Code departement'] = df['Code departement'].astype('str').str.pad(2, side='left', fillchar='0')"
   ]
  },
  {
   "cell_type": "code",
   "execution_count": 35,
   "metadata": {},
   "outputs": [
    {
     "data": {
      "text/html": [
       "<div>\n",
       "<style scoped>\n",
       "    .dataframe tbody tr th:only-of-type {\n",
       "        vertical-align: middle;\n",
       "    }\n",
       "\n",
       "    .dataframe tbody tr th {\n",
       "        vertical-align: top;\n",
       "    }\n",
       "\n",
       "    .dataframe thead th {\n",
       "        text-align: right;\n",
       "    }\n",
       "</style>\n",
       "<table border=\"1\" class=\"dataframe\">\n",
       "  <thead>\n",
       "    <tr style=\"text-align: right;\">\n",
       "      <th></th>\n",
       "      <th>No disposition</th>\n",
       "      <th>Date mutation</th>\n",
       "      <th>Nature mutation</th>\n",
       "      <th>Valeur fonciere</th>\n",
       "      <th>No voie</th>\n",
       "      <th>Type de voie</th>\n",
       "      <th>Code voie</th>\n",
       "      <th>Voie</th>\n",
       "      <th>Code postal</th>\n",
       "      <th>Commune</th>\n",
       "      <th>Code departement</th>\n",
       "      <th>Code commune</th>\n",
       "      <th>Section</th>\n",
       "      <th>No plan</th>\n",
       "      <th>Nombre de lots</th>\n",
       "      <th>Code type local</th>\n",
       "      <th>Type local</th>\n",
       "      <th>Surface reelle bati</th>\n",
       "      <th>Nombre pieces principales</th>\n",
       "      <th>Nature culture</th>\n",
       "      <th>Surface terrain</th>\n",
       "      <th>key</th>\n",
       "      <th>code_departement</th>\n",
       "      <th>code_region</th>\n",
       "      <th>nom_region</th>\n",
       "    </tr>\n",
       "  </thead>\n",
       "  <tbody>\n",
       "    <tr>\n",
       "      <th>0</th>\n",
       "      <td>2</td>\n",
       "      <td>10/01/2018</td>\n",
       "      <td>Vente</td>\n",
       "      <td>3150.0</td>\n",
       "      <td>NaN</td>\n",
       "      <td>NaN</td>\n",
       "      <td>B077</td>\n",
       "      <td>PONT D AIN</td>\n",
       "      <td>1160.0</td>\n",
       "      <td>PONT-D AIN</td>\n",
       "      <td>01</td>\n",
       "      <td>304</td>\n",
       "      <td>AM</td>\n",
       "      <td>461</td>\n",
       "      <td>0</td>\n",
       "      <td>NaN</td>\n",
       "      <td>NaN</td>\n",
       "      <td>NaN</td>\n",
       "      <td>NaN</td>\n",
       "      <td>S</td>\n",
       "      <td>126.0</td>\n",
       "      <td>10/01/2018nanPONT D AIN1160.0</td>\n",
       "      <td>01</td>\n",
       "      <td>84.0</td>\n",
       "      <td>Auvergne-Rhône-Alpes</td>\n",
       "    </tr>\n",
       "    <tr>\n",
       "      <th>1</th>\n",
       "      <td>2</td>\n",
       "      <td>12/01/2018</td>\n",
       "      <td>Vente</td>\n",
       "      <td>2100.0</td>\n",
       "      <td>NaN</td>\n",
       "      <td>NaN</td>\n",
       "      <td>B135</td>\n",
       "      <td>SOUS LE BOIS GIROUD</td>\n",
       "      <td>1250.0</td>\n",
       "      <td>JASSERON</td>\n",
       "      <td>01</td>\n",
       "      <td>195</td>\n",
       "      <td>C</td>\n",
       "      <td>2066</td>\n",
       "      <td>0</td>\n",
       "      <td>NaN</td>\n",
       "      <td>NaN</td>\n",
       "      <td>NaN</td>\n",
       "      <td>NaN</td>\n",
       "      <td>BT</td>\n",
       "      <td>197.0</td>\n",
       "      <td>12/01/2018nanSOUS LE BOIS GIROUD1250.0</td>\n",
       "      <td>01</td>\n",
       "      <td>84.0</td>\n",
       "      <td>Auvergne-Rhône-Alpes</td>\n",
       "    </tr>\n",
       "    <tr>\n",
       "      <th>2</th>\n",
       "      <td>1</td>\n",
       "      <td>04/01/2018</td>\n",
       "      <td>Vente</td>\n",
       "      <td>67000.0</td>\n",
       "      <td>12.0</td>\n",
       "      <td>ALL</td>\n",
       "      <td>3044</td>\n",
       "      <td>DE LA PETITE REYSSOUZE</td>\n",
       "      <td>1000.0</td>\n",
       "      <td>BOURG-EN-BRESSE</td>\n",
       "      <td>01</td>\n",
       "      <td>53</td>\n",
       "      <td>BD</td>\n",
       "      <td>227</td>\n",
       "      <td>1</td>\n",
       "      <td>2.0</td>\n",
       "      <td>Appartement</td>\n",
       "      <td>45.0</td>\n",
       "      <td>1.0</td>\n",
       "      <td>NaN</td>\n",
       "      <td>NaN</td>\n",
       "      <td>04/01/2018ALLDE LA PETITE REYSSOUZE1000.0</td>\n",
       "      <td>01</td>\n",
       "      <td>84.0</td>\n",
       "      <td>Auvergne-Rhône-Alpes</td>\n",
       "    </tr>\n",
       "    <tr>\n",
       "      <th>3</th>\n",
       "      <td>1</td>\n",
       "      <td>11/01/2018</td>\n",
       "      <td>Vente</td>\n",
       "      <td>76200.0</td>\n",
       "      <td>5.0</td>\n",
       "      <td>RUE</td>\n",
       "      <td>2690</td>\n",
       "      <td>MOLIERE</td>\n",
       "      <td>1000.0</td>\n",
       "      <td>BOURG-EN-BRESSE</td>\n",
       "      <td>01</td>\n",
       "      <td>53</td>\n",
       "      <td>AP</td>\n",
       "      <td>152</td>\n",
       "      <td>2</td>\n",
       "      <td>2.0</td>\n",
       "      <td>Appartement</td>\n",
       "      <td>68.0</td>\n",
       "      <td>3.0</td>\n",
       "      <td>NaN</td>\n",
       "      <td>NaN</td>\n",
       "      <td>11/01/2018RUEMOLIERE1000.0</td>\n",
       "      <td>01</td>\n",
       "      <td>84.0</td>\n",
       "      <td>Auvergne-Rhône-Alpes</td>\n",
       "    </tr>\n",
       "    <tr>\n",
       "      <th>4</th>\n",
       "      <td>1</td>\n",
       "      <td>17/01/2018</td>\n",
       "      <td>Vente</td>\n",
       "      <td>1000.0</td>\n",
       "      <td>NaN</td>\n",
       "      <td>NaN</td>\n",
       "      <td>B112</td>\n",
       "      <td>VACAGNOLE</td>\n",
       "      <td>1340.0</td>\n",
       "      <td>ATTIGNAT</td>\n",
       "      <td>01</td>\n",
       "      <td>24</td>\n",
       "      <td>AL</td>\n",
       "      <td>106</td>\n",
       "      <td>0</td>\n",
       "      <td>NaN</td>\n",
       "      <td>NaN</td>\n",
       "      <td>NaN</td>\n",
       "      <td>NaN</td>\n",
       "      <td>AB</td>\n",
       "      <td>5093.0</td>\n",
       "      <td>17/01/2018nanVACAGNOLE1340.0</td>\n",
       "      <td>01</td>\n",
       "      <td>84.0</td>\n",
       "      <td>Auvergne-Rhône-Alpes</td>\n",
       "    </tr>\n",
       "  </tbody>\n",
       "</table>\n",
       "</div>"
      ],
      "text/plain": [
       "   No disposition Date mutation Nature mutation  Valeur fonciere  No voie  \\\n",
       "0               2    10/01/2018           Vente           3150.0      NaN   \n",
       "1               2    12/01/2018           Vente           2100.0      NaN   \n",
       "2               1    04/01/2018           Vente          67000.0     12.0   \n",
       "3               1    11/01/2018           Vente          76200.0      5.0   \n",
       "4               1    17/01/2018           Vente           1000.0      NaN   \n",
       "\n",
       "  Type de voie Code voie                    Voie  Code postal  \\\n",
       "0          NaN      B077              PONT D AIN       1160.0   \n",
       "1          NaN      B135     SOUS LE BOIS GIROUD       1250.0   \n",
       "2          ALL      3044  DE LA PETITE REYSSOUZE       1000.0   \n",
       "3          RUE      2690                 MOLIERE       1000.0   \n",
       "4          NaN      B112               VACAGNOLE       1340.0   \n",
       "\n",
       "           Commune Code departement  Code commune Section  No plan  \\\n",
       "0       PONT-D AIN               01           304      AM      461   \n",
       "1         JASSERON               01           195       C     2066   \n",
       "2  BOURG-EN-BRESSE               01            53      BD      227   \n",
       "3  BOURG-EN-BRESSE               01            53      AP      152   \n",
       "4         ATTIGNAT               01            24      AL      106   \n",
       "\n",
       "   Nombre de lots  Code type local   Type local  Surface reelle bati  \\\n",
       "0               0              NaN          NaN                  NaN   \n",
       "1               0              NaN          NaN                  NaN   \n",
       "2               1              2.0  Appartement                 45.0   \n",
       "3               2              2.0  Appartement                 68.0   \n",
       "4               0              NaN          NaN                  NaN   \n",
       "\n",
       "   Nombre pieces principales Nature culture  Surface terrain  \\\n",
       "0                        NaN              S            126.0   \n",
       "1                        NaN             BT            197.0   \n",
       "2                        1.0            NaN              NaN   \n",
       "3                        3.0            NaN              NaN   \n",
       "4                        NaN             AB           5093.0   \n",
       "\n",
       "                                         key code_departement  code_region  \\\n",
       "0              10/01/2018nanPONT D AIN1160.0               01         84.0   \n",
       "1     12/01/2018nanSOUS LE BOIS GIROUD1250.0               01         84.0   \n",
       "2  04/01/2018ALLDE LA PETITE REYSSOUZE1000.0               01         84.0   \n",
       "3                 11/01/2018RUEMOLIERE1000.0               01         84.0   \n",
       "4               17/01/2018nanVACAGNOLE1340.0               01         84.0   \n",
       "\n",
       "             nom_region  \n",
       "0  Auvergne-Rhône-Alpes  \n",
       "1  Auvergne-Rhône-Alpes  \n",
       "2  Auvergne-Rhône-Alpes  \n",
       "3  Auvergne-Rhône-Alpes  \n",
       "4  Auvergne-Rhône-Alpes  "
      ]
     },
     "execution_count": 35,
     "metadata": {},
     "output_type": "execute_result"
    }
   ],
   "source": [
    "pd.set_option('display.max_columns', None)\n",
    "dfAll = df.merge(dfAddress.loc[:, ['code_departement', 'code_region', 'nom_region']], how='left', left_on='Code departement', right_on='code_departement')\n",
    "dfAll.head()"
   ]
  },
  {
   "cell_type": "code",
   "execution_count": 36,
   "metadata": {},
   "outputs": [
    {
     "data": {
      "text/html": [
       "<div>\n",
       "<style scoped>\n",
       "    .dataframe tbody tr th:only-of-type {\n",
       "        vertical-align: middle;\n",
       "    }\n",
       "\n",
       "    .dataframe tbody tr th {\n",
       "        vertical-align: top;\n",
       "    }\n",
       "\n",
       "    .dataframe thead th {\n",
       "        text-align: right;\n",
       "    }\n",
       "</style>\n",
       "<table border=\"1\" class=\"dataframe\">\n",
       "  <thead>\n",
       "    <tr style=\"text-align: right;\">\n",
       "      <th></th>\n",
       "      <th>Date mutation</th>\n",
       "      <th>Nature mutation</th>\n",
       "      <th>Valeur fonciere</th>\n",
       "      <th>Nombre de lots</th>\n",
       "      <th>Code commune</th>\n",
       "      <th>Code type local</th>\n",
       "      <th>Type local</th>\n",
       "      <th>Surface reelle bati</th>\n",
       "      <th>Nombre pieces principales</th>\n",
       "      <th>Nature culture</th>\n",
       "      <th>Surface terrain</th>\n",
       "      <th>nom_region</th>\n",
       "      <th>code_region</th>\n",
       "    </tr>\n",
       "  </thead>\n",
       "  <tbody>\n",
       "    <tr>\n",
       "      <th>0</th>\n",
       "      <td>10/01/2018</td>\n",
       "      <td>Vente</td>\n",
       "      <td>3150.0</td>\n",
       "      <td>0</td>\n",
       "      <td>304</td>\n",
       "      <td>NaN</td>\n",
       "      <td>NaN</td>\n",
       "      <td>NaN</td>\n",
       "      <td>NaN</td>\n",
       "      <td>S</td>\n",
       "      <td>126.0</td>\n",
       "      <td>Auvergne-Rhône-Alpes</td>\n",
       "      <td>84.0</td>\n",
       "    </tr>\n",
       "    <tr>\n",
       "      <th>1</th>\n",
       "      <td>12/01/2018</td>\n",
       "      <td>Vente</td>\n",
       "      <td>2100.0</td>\n",
       "      <td>0</td>\n",
       "      <td>195</td>\n",
       "      <td>NaN</td>\n",
       "      <td>NaN</td>\n",
       "      <td>NaN</td>\n",
       "      <td>NaN</td>\n",
       "      <td>BT</td>\n",
       "      <td>197.0</td>\n",
       "      <td>Auvergne-Rhône-Alpes</td>\n",
       "      <td>84.0</td>\n",
       "    </tr>\n",
       "    <tr>\n",
       "      <th>2</th>\n",
       "      <td>04/01/2018</td>\n",
       "      <td>Vente</td>\n",
       "      <td>67000.0</td>\n",
       "      <td>1</td>\n",
       "      <td>53</td>\n",
       "      <td>2.0</td>\n",
       "      <td>Appartement</td>\n",
       "      <td>45.0</td>\n",
       "      <td>1.0</td>\n",
       "      <td>NaN</td>\n",
       "      <td>NaN</td>\n",
       "      <td>Auvergne-Rhône-Alpes</td>\n",
       "      <td>84.0</td>\n",
       "    </tr>\n",
       "    <tr>\n",
       "      <th>3</th>\n",
       "      <td>11/01/2018</td>\n",
       "      <td>Vente</td>\n",
       "      <td>76200.0</td>\n",
       "      <td>2</td>\n",
       "      <td>53</td>\n",
       "      <td>2.0</td>\n",
       "      <td>Appartement</td>\n",
       "      <td>68.0</td>\n",
       "      <td>3.0</td>\n",
       "      <td>NaN</td>\n",
       "      <td>NaN</td>\n",
       "      <td>Auvergne-Rhône-Alpes</td>\n",
       "      <td>84.0</td>\n",
       "    </tr>\n",
       "    <tr>\n",
       "      <th>4</th>\n",
       "      <td>17/01/2018</td>\n",
       "      <td>Vente</td>\n",
       "      <td>1000.0</td>\n",
       "      <td>0</td>\n",
       "      <td>24</td>\n",
       "      <td>NaN</td>\n",
       "      <td>NaN</td>\n",
       "      <td>NaN</td>\n",
       "      <td>NaN</td>\n",
       "      <td>AB</td>\n",
       "      <td>5093.0</td>\n",
       "      <td>Auvergne-Rhône-Alpes</td>\n",
       "      <td>84.0</td>\n",
       "    </tr>\n",
       "  </tbody>\n",
       "</table>\n",
       "</div>"
      ],
      "text/plain": [
       "  Date mutation Nature mutation  Valeur fonciere  Nombre de lots  \\\n",
       "0    10/01/2018           Vente           3150.0               0   \n",
       "1    12/01/2018           Vente           2100.0               0   \n",
       "2    04/01/2018           Vente          67000.0               1   \n",
       "3    11/01/2018           Vente          76200.0               2   \n",
       "4    17/01/2018           Vente           1000.0               0   \n",
       "\n",
       "   Code commune  Code type local   Type local  Surface reelle bati  \\\n",
       "0           304              NaN          NaN                  NaN   \n",
       "1           195              NaN          NaN                  NaN   \n",
       "2            53              2.0  Appartement                 45.0   \n",
       "3            53              2.0  Appartement                 68.0   \n",
       "4            24              NaN          NaN                  NaN   \n",
       "\n",
       "   Nombre pieces principales Nature culture  Surface terrain  \\\n",
       "0                        NaN              S            126.0   \n",
       "1                        NaN             BT            197.0   \n",
       "2                        1.0            NaN              NaN   \n",
       "3                        3.0            NaN              NaN   \n",
       "4                        NaN             AB           5093.0   \n",
       "\n",
       "             nom_region  code_region  \n",
       "0  Auvergne-Rhône-Alpes         84.0  \n",
       "1  Auvergne-Rhône-Alpes         84.0  \n",
       "2  Auvergne-Rhône-Alpes         84.0  \n",
       "3  Auvergne-Rhône-Alpes         84.0  \n",
       "4  Auvergne-Rhône-Alpes         84.0  "
      ]
     },
     "execution_count": 36,
     "metadata": {},
     "output_type": "execute_result"
    }
   ],
   "source": [
    "dataset = dfAll[['Date mutation', 'Nature mutation', 'Valeur fonciere', 'Nombre de lots', 'Code commune',\n",
    "           'Code type local', 'Type local', 'Surface reelle bati', 'Nombre pieces principales', 'Nature culture',\n",
    "           'Surface terrain', 'nom_region', 'code_region']]\n",
    "dataset.head()"
   ]
  },
  {
   "cell_type": "code",
   "execution_count": 37,
   "metadata": {},
   "outputs": [],
   "source": [
    "target = 'Type local'\n",
    "# target = 'Code type local'"
   ]
  },
  {
   "cell_type": "code",
   "execution_count": 38,
   "metadata": {},
   "outputs": [
    {
     "data": {
      "text/plain": [
       "(5148, 13)"
      ]
     },
     "execution_count": 38,
     "metadata": {},
     "output_type": "execute_result"
    }
   ],
   "source": [
    "classSet = dataset[dataset[target].notna()]\n",
    "classSet.shape"
   ]
  },
  {
   "cell_type": "code",
   "execution_count": 39,
   "metadata": {},
   "outputs": [],
   "source": [
    "classSet = classSet[['Nombre de lots', 'Nombre pieces principales', target]]"
   ]
  },
  {
   "cell_type": "code",
   "execution_count": 40,
   "metadata": {},
   "outputs": [
    {
     "data": {
      "text/html": [
       "<div>\n",
       "<style scoped>\n",
       "    .dataframe tbody tr th:only-of-type {\n",
       "        vertical-align: middle;\n",
       "    }\n",
       "\n",
       "    .dataframe tbody tr th {\n",
       "        vertical-align: top;\n",
       "    }\n",
       "\n",
       "    .dataframe thead th {\n",
       "        text-align: right;\n",
       "    }\n",
       "</style>\n",
       "<table border=\"1\" class=\"dataframe\">\n",
       "  <thead>\n",
       "    <tr style=\"text-align: right;\">\n",
       "      <th></th>\n",
       "      <th>Nombre de lots</th>\n",
       "      <th>Nombre pieces principales</th>\n",
       "    </tr>\n",
       "  </thead>\n",
       "  <tbody>\n",
       "    <tr>\n",
       "      <th>count</th>\n",
       "      <td>5148.000000</td>\n",
       "      <td>5141.000000</td>\n",
       "    </tr>\n",
       "    <tr>\n",
       "      <th>mean</th>\n",
       "      <td>0.466977</td>\n",
       "      <td>3.425015</td>\n",
       "    </tr>\n",
       "    <tr>\n",
       "      <th>std</th>\n",
       "      <td>1.201271</td>\n",
       "      <td>1.826967</td>\n",
       "    </tr>\n",
       "    <tr>\n",
       "      <th>min</th>\n",
       "      <td>0.000000</td>\n",
       "      <td>0.000000</td>\n",
       "    </tr>\n",
       "    <tr>\n",
       "      <th>25%</th>\n",
       "      <td>0.000000</td>\n",
       "      <td>2.000000</td>\n",
       "    </tr>\n",
       "    <tr>\n",
       "      <th>50%</th>\n",
       "      <td>0.000000</td>\n",
       "      <td>4.000000</td>\n",
       "    </tr>\n",
       "    <tr>\n",
       "      <th>75%</th>\n",
       "      <td>1.000000</td>\n",
       "      <td>5.000000</td>\n",
       "    </tr>\n",
       "    <tr>\n",
       "      <th>max</th>\n",
       "      <td>41.000000</td>\n",
       "      <td>15.000000</td>\n",
       "    </tr>\n",
       "  </tbody>\n",
       "</table>\n",
       "</div>"
      ],
      "text/plain": [
       "       Nombre de lots  Nombre pieces principales\n",
       "count     5148.000000                5141.000000\n",
       "mean         0.466977                   3.425015\n",
       "std          1.201271                   1.826967\n",
       "min          0.000000                   0.000000\n",
       "25%          0.000000                   2.000000\n",
       "50%          0.000000                   4.000000\n",
       "75%          1.000000                   5.000000\n",
       "max         41.000000                  15.000000"
      ]
     },
     "execution_count": 40,
     "metadata": {},
     "output_type": "execute_result"
    }
   ],
   "source": [
    "classSet.describe()"
   ]
  },
  {
   "cell_type": "code",
   "execution_count": 41,
   "metadata": {},
   "outputs": [],
   "source": [
    "Xtrain, Xtest, ytrain, ytest = train_test_split(classSet.drop(target, axis=1), classSet[target], stratify=classSet[target], test_size=0.3 ,random_state=123)"
   ]
  },
  {
   "cell_type": "code",
   "execution_count": 42,
   "metadata": {},
   "outputs": [],
   "source": [
    "Xtrain['Nombre pieces principales'].fillna(Xtrain['Nombre pieces principales'].median(), inplace=True)\n",
    "Xtest['Nombre pieces principales'].fillna(Xtest['Nombre pieces principales'].median(), inplace=True)\n"
   ]
  },
  {
   "cell_type": "code",
   "execution_count": 43,
   "metadata": {},
   "outputs": [],
   "source": [
    "def evaluate(model):\n",
    "    model.fit(Xtrain, ytrain)\n",
    "    ypred = model.predict(Xtest)\n",
    "    print(confusion_matrix(ypred, ytest))\n",
    "    print(classification_report(ypred, ytest))\n",
    "    # N, trainScore, valScore = learning_curve(model, Xtrain, ytrain,cv=3,train_sizes=np.linspace(0.1, 1, 10), scoring='f1_macro')\n",
    "    # plt.figure(figsize=(16, 8))\n",
    "    # plt.plot(N, trainScore.mean(axis=1), label='train score', color='red')\n",
    "    # plt.plot(N, valScore.mean(axis=1), label='validation score')\n",
    "    # plt.show()\n"
   ]
  },
  {
   "cell_type": "code",
   "execution_count": 44,
   "metadata": {},
   "outputs": [
    {
     "name": "stdout",
     "output_type": "stream",
     "text": [
      "[[ 273    0    0   35]\n",
      " [   0   63   21    0]\n",
      " [   0   20   80    1]\n",
      " [   0    0    3 1049]]\n",
      "                                          precision    recall  f1-score   support\n",
      "\n",
      "                             Appartement       1.00      0.89      0.94       308\n",
      "                              Dépendance       0.76      0.75      0.75        84\n",
      "Local industriel. commercial ou assimilé       0.77      0.79      0.78       101\n",
      "                                  Maison       0.97      1.00      0.98      1052\n",
      "\n",
      "                                accuracy                           0.95      1545\n",
      "                               macro avg       0.87      0.86      0.86      1545\n",
      "                            weighted avg       0.95      0.95      0.95      1545\n",
      "\n"
     ]
    }
   ],
   "source": [
    "arbre = DecisionTreeClassifier(max_depth=7, min_samples_leaf=5, min_samples_split=100, random_state=123)\n",
    "evaluate(arbre)"
   ]
  },
  {
   "cell_type": "code",
   "execution_count": 45,
   "metadata": {},
   "outputs": [],
   "source": [
    "# import pickle"
   ]
  },
  {
   "cell_type": "code",
   "execution_count": 46,
   "metadata": {},
   "outputs": [],
   "source": [
    "# with open(\"models/decision-tree.pkl\", \"wb\") as f:\n",
    "#     pickle.dump({'model': arbre}, f)"
   ]
  },
  {
   "cell_type": "code",
   "execution_count": 47,
   "metadata": {},
   "outputs": [],
   "source": [
    "# ypred = arbre.predict(Xtest)\n",
    "# confusion_matrix(ypred, ytest)"
   ]
  }
 ],
 "metadata": {
  "kernelspec": {
   "display_name": ".venv",
   "language": "python",
   "name": "python3"
  },
  "language_info": {
   "codemirror_mode": {
    "name": "ipython",
    "version": 3
   },
   "file_extension": ".py",
   "mimetype": "text/x-python",
   "name": "python",
   "nbconvert_exporter": "python",
   "pygments_lexer": "ipython3",
   "version": "3.11.4"
  },
  "orig_nbformat": 4
 },
 "nbformat": 4,
 "nbformat_minor": 2
}
